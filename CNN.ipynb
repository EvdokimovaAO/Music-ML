{
 "cells": [
  {
   "cell_type": "code",
   "execution_count": 37,
   "metadata": {},
   "outputs": [],
   "source": [
    "import pandas as pd\n",
    "import numpy as np\n",
    "import matplotlib.pyplot as plt\n",
    "import seaborn as sns\n",
    "import tensorflow.keras as keras\n",
    "\n",
    "from sklearn.model_selection import train_test_split\n",
    "from sklearn.preprocessing import LabelEncoder, StandardScaler"
   ]
  },
  {
   "cell_type": "code",
   "execution_count": 38,
   "metadata": {},
   "outputs": [],
   "source": [
    "genres = pd.read_csv('out_40_corrected.csv', encoding ='mac_cyrillic', sep=';')"
   ]
  },
  {
   "cell_type": "code",
   "execution_count": 39,
   "metadata": {},
   "outputs": [],
   "source": [
    "# encoding the labels\n",
    "genre_list = genres.coarse_genre\n",
    "encoder = LabelEncoder()\n",
    "y = np.array(encoder.fit_transform(genre_list))"
   ]
  },
  {
   "cell_type": "code",
   "execution_count": 40,
   "metadata": {},
   "outputs": [],
   "source": [
    "X = np.array(genres.drop(['student', 'song', 'coarse_genre', 'genre1', 'genre2', 'genre3'], axis=1))"
   ]
  },
  {
   "cell_type": "code",
   "execution_count": 41,
   "metadata": {},
   "outputs": [],
   "source": [
    "X_train, X_test, y_train, y_test = train_test_split(X, y, test_size=0.2)\n",
    "X_train, X_validation, y_train, y_validation = train_test_split(X_train, y_train, test_size=0.2)"
   ]
  },
  {
   "cell_type": "code",
   "execution_count": 42,
   "metadata": {},
   "outputs": [],
   "source": [
    "X_train = X_train.reshape(X_train.shape[0], X_train.shape[1], 1, 1)\n",
    "X_test = X_test.reshape(X_test.shape[0], X_test.shape[1], 1, 1)\n",
    "X_validation = X_validation.reshape(X_validation.shape[0], X_validation.shape[1], 1, 1)"
   ]
  },
  {
   "cell_type": "code",
   "execution_count": 43,
   "metadata": {},
   "outputs": [
    {
     "data": {
      "text/plain": [
       "(207, 19, 1, 1)"
      ]
     },
     "execution_count": 43,
     "metadata": {},
     "output_type": "execute_result"
    }
   ],
   "source": [
    "X_train.shape"
   ]
  },
  {
   "cell_type": "code",
   "execution_count": 44,
   "metadata": {},
   "outputs": [],
   "source": [
    "from tensorflow.keras import backend as K\n",
    "K.set_image_data_format('channels_last')"
   ]
  },
  {
   "cell_type": "code",
   "execution_count": 45,
   "metadata": {},
   "outputs": [],
   "source": [
    "model = keras.Sequential()\n",
    "\n",
    "# 1st conv layer\n",
    "model.add(keras.layers.Conv2D(32, (3, 3), activation='relu', input_shape=(X_train.shape[1], X_train.shape[2], 1), padding='same'))\n",
    "model.add(keras.layers.MaxPooling2D((3, 3), strides=(2, 2), padding='same'))\n",
    "model.add(keras.layers.BatchNormalization())\n",
    "model.add(keras.layers.Dropout(0.3))\n",
    "\n",
    "# 2nd conv layer\n",
    "model.add(keras.layers.Conv2D(32, (3, 3), activation='relu', padding='same'))\n",
    "model.add(keras.layers.MaxPooling2D((3, 3), strides=(2, 2), padding='same'))\n",
    "model.add(keras.layers.BatchNormalization())\n",
    "model.add(keras.layers.Dropout(0.3))\n",
    "\n",
    "# 3rd conv layer\n",
    "model.add(keras.layers.Conv2D(32, (2, 2), activation='relu', padding='same'))\n",
    "model.add(keras.layers.MaxPooling2D((2, 2), strides=(2, 2), padding='same'))\n",
    "model.add(keras.layers.BatchNormalization())\n",
    "model.add(keras.layers.Dropout(0.3))\n",
    "\n",
    "# flatten output and feed it into dense layer\n",
    "model.add(keras.layers.Flatten())\n",
    "model.add(keras.layers.Dense(64, activation='relu'))\n",
    "\n",
    "\n",
    "# output layer\n",
    "model.add(keras.layers.Dense(10, activation='softmax'))"
   ]
  },
  {
   "cell_type": "code",
   "execution_count": 56,
   "metadata": {},
   "outputs": [],
   "source": [
    "optimiser = keras.optimizers.Adam(learning_rate=0.0001)\n",
    "model.compile(optimizer=optimiser,\n",
    "                loss='sparse_categorical_crossentropy',\n",
    "                metrics=['accuracy'])"
   ]
  },
  {
   "cell_type": "code",
   "execution_count": 57,
   "metadata": {},
   "outputs": [
    {
     "name": "stdout",
     "output_type": "stream",
     "text": [
      "Model: \"sequential_4\"\n",
      "_________________________________________________________________\n",
      "Layer (type)                 Output Shape              Param #   \n",
      "=================================================================\n",
      "conv2d_12 (Conv2D)           (None, 19, 1, 32)         320       \n",
      "_________________________________________________________________\n",
      "max_pooling2d_12 (MaxPooling (None, 10, 1, 32)         0         \n",
      "_________________________________________________________________\n",
      "batch_normalization_12 (Batc (None, 10, 1, 32)         128       \n",
      "_________________________________________________________________\n",
      "dropout_12 (Dropout)         (None, 10, 1, 32)         0         \n",
      "_________________________________________________________________\n",
      "conv2d_13 (Conv2D)           (None, 10, 1, 32)         9248      \n",
      "_________________________________________________________________\n",
      "max_pooling2d_13 (MaxPooling (None, 5, 1, 32)          0         \n",
      "_________________________________________________________________\n",
      "batch_normalization_13 (Batc (None, 5, 1, 32)          128       \n",
      "_________________________________________________________________\n",
      "dropout_13 (Dropout)         (None, 5, 1, 32)          0         \n",
      "_________________________________________________________________\n",
      "conv2d_14 (Conv2D)           (None, 5, 1, 32)          4128      \n",
      "_________________________________________________________________\n",
      "max_pooling2d_14 (MaxPooling (None, 3, 1, 32)          0         \n",
      "_________________________________________________________________\n",
      "batch_normalization_14 (Batc (None, 3, 1, 32)          128       \n",
      "_________________________________________________________________\n",
      "dropout_14 (Dropout)         (None, 3, 1, 32)          0         \n",
      "_________________________________________________________________\n",
      "flatten_4 (Flatten)          (None, 96)                0         \n",
      "_________________________________________________________________\n",
      "dense_8 (Dense)              (None, 64)                6208      \n",
      "_________________________________________________________________\n",
      "dense_9 (Dense)              (None, 10)                650       \n",
      "=================================================================\n",
      "Total params: 20,938\n",
      "Trainable params: 20,746\n",
      "Non-trainable params: 192\n",
      "_________________________________________________________________\n"
     ]
    }
   ],
   "source": [
    "model.summary()"
   ]
  },
  {
   "cell_type": "code",
   "execution_count": 58,
   "metadata": {},
   "outputs": [
    {
     "name": "stdout",
     "output_type": "stream",
     "text": [
      "Epoch 1/100\n",
      "7/7 [==============================] - 3s 187ms/step - loss: 1.7920 - accuracy: 0.2822 - val_loss: 1.9406 - val_accuracy: 0.2692\n",
      "Epoch 2/100\n",
      "7/7 [==============================] - 0s 48ms/step - loss: 1.7811 - accuracy: 0.2810 - val_loss: 1.9434 - val_accuracy: 0.2692\n",
      "Epoch 3/100\n",
      "7/7 [==============================] - 0s 48ms/step - loss: 1.8552 - accuracy: 0.2897 - val_loss: 1.9433 - val_accuracy: 0.2692\n",
      "Epoch 4/100\n",
      "7/7 [==============================] - 0s 45ms/step - loss: 1.8742 - accuracy: 0.2472 - val_loss: 1.9421 - val_accuracy: 0.2692\n",
      "Epoch 5/100\n",
      "7/7 [==============================] - 0s 43ms/step - loss: 1.8647 - accuracy: 0.2497 - val_loss: 1.9411 - val_accuracy: 0.2692\n",
      "Epoch 6/100\n",
      "7/7 [==============================] - 0s 43ms/step - loss: 1.8099 - accuracy: 0.2913 - val_loss: 1.9414 - val_accuracy: 0.2692\n",
      "Epoch 7/100\n",
      "7/7 [==============================] - 0s 48ms/step - loss: 1.7627 - accuracy: 0.2843 - val_loss: 1.9397 - val_accuracy: 0.2692\n",
      "Epoch 8/100\n",
      "7/7 [==============================] - 0s 49ms/step - loss: 1.8837 - accuracy: 0.2589 - val_loss: 1.9384 - val_accuracy: 0.2692\n",
      "Epoch 9/100\n",
      "7/7 [==============================] - 0s 53ms/step - loss: 1.8165 - accuracy: 0.2715 - val_loss: 1.9374 - val_accuracy: 0.2692\n",
      "Epoch 10/100\n",
      "7/7 [==============================] - 0s 73ms/step - loss: 1.8499 - accuracy: 0.2859 - val_loss: 1.9364 - val_accuracy: 0.2692\n",
      "Epoch 11/100\n",
      "7/7 [==============================] - 0s 54ms/step - loss: 1.8186 - accuracy: 0.2618 - val_loss: 1.9348 - val_accuracy: 0.2692\n",
      "Epoch 12/100\n",
      "7/7 [==============================] - 0s 39ms/step - loss: 1.7352 - accuracy: 0.3449 - val_loss: 1.9341 - val_accuracy: 0.2692\n",
      "Epoch 13/100\n",
      "7/7 [==============================] - 0s 49ms/step - loss: 1.8410 - accuracy: 0.2859 - val_loss: 1.9330 - val_accuracy: 0.2692\n",
      "Epoch 14/100\n",
      "7/7 [==============================] - 0s 43ms/step - loss: 1.7552 - accuracy: 0.3188 - val_loss: 1.9331 - val_accuracy: 0.2692\n",
      "Epoch 15/100\n",
      "7/7 [==============================] - 0s 42ms/step - loss: 1.8033 - accuracy: 0.3331 - val_loss: 1.9327 - val_accuracy: 0.2692\n",
      "Epoch 16/100\n",
      "7/7 [==============================] - 0s 38ms/step - loss: 1.8176 - accuracy: 0.2623 - val_loss: 1.9330 - val_accuracy: 0.2692\n",
      "Epoch 17/100\n",
      "7/7 [==============================] - 0s 42ms/step - loss: 1.8625 - accuracy: 0.2881 - val_loss: 1.9321 - val_accuracy: 0.2692\n",
      "Epoch 18/100\n",
      "7/7 [==============================] - 0s 44ms/step - loss: 1.8583 - accuracy: 0.2937 - val_loss: 1.9315 - val_accuracy: 0.2692\n",
      "Epoch 19/100\n",
      "7/7 [==============================] - 0s 36ms/step - loss: 1.8521 - accuracy: 0.2453 - val_loss: 1.9300 - val_accuracy: 0.2885\n",
      "Epoch 20/100\n",
      "7/7 [==============================] - 0s 40ms/step - loss: 1.8592 - accuracy: 0.2248 - val_loss: 1.9285 - val_accuracy: 0.2885\n",
      "Epoch 21/100\n",
      "7/7 [==============================] - 0s 52ms/step - loss: 1.8573 - accuracy: 0.3037 - val_loss: 1.9272 - val_accuracy: 0.2885\n",
      "Epoch 22/100\n",
      "7/7 [==============================] - 0s 39ms/step - loss: 1.8537 - accuracy: 0.2586 - val_loss: 1.9256 - val_accuracy: 0.2885\n",
      "Epoch 23/100\n",
      "7/7 [==============================] - 0s 44ms/step - loss: 1.8455 - accuracy: 0.2931 - val_loss: 1.9233 - val_accuracy: 0.2885\n",
      "Epoch 24/100\n",
      "7/7 [==============================] - 0s 45ms/step - loss: 1.8487 - accuracy: 0.2488 - val_loss: 1.9241 - val_accuracy: 0.2885\n",
      "Epoch 25/100\n",
      "7/7 [==============================] - 0s 40ms/step - loss: 1.8494 - accuracy: 0.2541 - val_loss: 1.9236 - val_accuracy: 0.2885\n",
      "Epoch 26/100\n",
      "7/7 [==============================] - 0s 48ms/step - loss: 1.9600 - accuracy: 0.1922 - val_loss: 1.9228 - val_accuracy: 0.2885\n",
      "Epoch 27/100\n",
      "7/7 [==============================] - 0s 46ms/step - loss: 1.8634 - accuracy: 0.2625 - val_loss: 1.9222 - val_accuracy: 0.2692\n",
      "Epoch 28/100\n",
      "7/7 [==============================] - 0s 51ms/step - loss: 1.7920 - accuracy: 0.2408 - val_loss: 1.9198 - val_accuracy: 0.2885\n",
      "Epoch 29/100\n",
      "7/7 [==============================] - 0s 49ms/step - loss: 1.8307 - accuracy: 0.2875 - val_loss: 1.9172 - val_accuracy: 0.2885\n",
      "Epoch 30/100\n",
      "7/7 [==============================] - 0s 38ms/step - loss: 1.8158 - accuracy: 0.3039 - val_loss: 1.9150 - val_accuracy: 0.2885\n",
      "Epoch 31/100\n",
      "7/7 [==============================] - 0s 42ms/step - loss: 1.8265 - accuracy: 0.2646 - val_loss: 1.9140 - val_accuracy: 0.2885\n",
      "Epoch 32/100\n",
      "7/7 [==============================] - 0s 36ms/step - loss: 1.7890 - accuracy: 0.2555 - val_loss: 1.9135 - val_accuracy: 0.2885\n",
      "Epoch 33/100\n",
      "7/7 [==============================] - 0s 38ms/step - loss: 1.8514 - accuracy: 0.2468 - val_loss: 1.9134 - val_accuracy: 0.2885\n",
      "Epoch 34/100\n",
      "7/7 [==============================] - 0s 38ms/step - loss: 1.8452 - accuracy: 0.3059 - val_loss: 1.9143 - val_accuracy: 0.2885\n",
      "Epoch 35/100\n",
      "7/7 [==============================] - 0s 53ms/step - loss: 1.8073 - accuracy: 0.2631 - val_loss: 1.9141 - val_accuracy: 0.2692\n",
      "Epoch 36/100\n",
      "7/7 [==============================] - 0s 48ms/step - loss: 1.8062 - accuracy: 0.3182 - val_loss: 1.9128 - val_accuracy: 0.2692\n",
      "Epoch 37/100\n",
      "7/7 [==============================] - 0s 45ms/step - loss: 1.8021 - accuracy: 0.2640 - val_loss: 1.9122 - val_accuracy: 0.2692\n",
      "Epoch 38/100\n",
      "7/7 [==============================] - 0s 35ms/step - loss: 1.8187 - accuracy: 0.2605 - val_loss: 1.9091 - val_accuracy: 0.2692\n",
      "Epoch 39/100\n",
      "7/7 [==============================] - 0s 41ms/step - loss: 1.7518 - accuracy: 0.3245 - val_loss: 1.9071 - val_accuracy: 0.2692\n",
      "Epoch 40/100\n",
      "7/7 [==============================] - 0s 39ms/step - loss: 1.7765 - accuracy: 0.2828 - val_loss: 1.9058 - val_accuracy: 0.2692\n",
      "Epoch 41/100\n",
      "7/7 [==============================] - 0s 51ms/step - loss: 1.7618 - accuracy: 0.3121 - val_loss: 1.9067 - val_accuracy: 0.2692\n",
      "Epoch 42/100\n",
      "7/7 [==============================] - 0s 49ms/step - loss: 1.8276 - accuracy: 0.3074 - val_loss: 1.9093 - val_accuracy: 0.2692\n",
      "Epoch 43/100\n",
      "7/7 [==============================] - 0s 38ms/step - loss: 1.7612 - accuracy: 0.3169 - val_loss: 1.9098 - val_accuracy: 0.2692\n",
      "Epoch 44/100\n",
      "7/7 [==============================] - 0s 53ms/step - loss: 1.8129 - accuracy: 0.2613 - val_loss: 1.9096 - val_accuracy: 0.2692\n",
      "Epoch 45/100\n",
      "7/7 [==============================] - 0s 67ms/step - loss: 1.7513 - accuracy: 0.3609 - val_loss: 1.9095 - val_accuracy: 0.2692\n",
      "Epoch 46/100\n",
      "7/7 [==============================] - 0s 45ms/step - loss: 1.7583 - accuracy: 0.2677 - val_loss: 1.9101 - val_accuracy: 0.2692\n",
      "Epoch 47/100\n",
      "7/7 [==============================] - 0s 54ms/step - loss: 1.8139 - accuracy: 0.3117 - val_loss: 1.9096 - val_accuracy: 0.2692\n",
      "Epoch 48/100\n",
      "7/7 [==============================] - 0s 51ms/step - loss: 1.7931 - accuracy: 0.3341 - val_loss: 1.9100 - val_accuracy: 0.2692\n",
      "Epoch 49/100\n",
      "7/7 [==============================] - 0s 44ms/step - loss: 1.8372 - accuracy: 0.2926 - val_loss: 1.9106 - val_accuracy: 0.2692\n",
      "Epoch 50/100\n",
      "7/7 [==============================] - 0s 38ms/step - loss: 1.7963 - accuracy: 0.3063 - val_loss: 1.9096 - val_accuracy: 0.2692\n",
      "Epoch 51/100\n",
      "7/7 [==============================] - 0s 37ms/step - loss: 1.7870 - accuracy: 0.2992 - val_loss: 1.9086 - val_accuracy: 0.2692\n",
      "Epoch 52/100\n",
      "7/7 [==============================] - 0s 42ms/step - loss: 1.7721 - accuracy: 0.3000 - val_loss: 1.9078 - val_accuracy: 0.2692\n",
      "Epoch 53/100\n",
      "7/7 [==============================] - 0s 38ms/step - loss: 1.7920 - accuracy: 0.2384 - val_loss: 1.9094 - val_accuracy: 0.2692\n",
      "Epoch 54/100\n",
      "7/7 [==============================] - 0s 48ms/step - loss: 1.7954 - accuracy: 0.2591 - val_loss: 1.9099 - val_accuracy: 0.2692\n",
      "Epoch 55/100\n",
      "7/7 [==============================] - 0s 45ms/step - loss: 1.8209 - accuracy: 0.3024 - val_loss: 1.9107 - val_accuracy: 0.2692\n",
      "Epoch 56/100\n",
      "7/7 [==============================] - 0s 46ms/step - loss: 1.8507 - accuracy: 0.2638 - val_loss: 1.9114 - val_accuracy: 0.2692\n",
      "Epoch 57/100\n",
      "7/7 [==============================] - 0s 56ms/step - loss: 1.8358 - accuracy: 0.2416 - val_loss: 1.9121 - val_accuracy: 0.2692\n",
      "Epoch 58/100\n",
      "7/7 [==============================] - 0s 50ms/step - loss: 1.7620 - accuracy: 0.3072 - val_loss: 1.9138 - val_accuracy: 0.2692\n",
      "Epoch 59/100\n"
     ]
    },
    {
     "name": "stdout",
     "output_type": "stream",
     "text": [
      "7/7 [==============================] - 0s 55ms/step - loss: 1.7930 - accuracy: 0.2571 - val_loss: 1.9152 - val_accuracy: 0.2692\n",
      "Epoch 60/100\n",
      "7/7 [==============================] - 0s 43ms/step - loss: 1.8540 - accuracy: 0.2543 - val_loss: 1.9161 - val_accuracy: 0.2692\n",
      "Epoch 61/100\n",
      "7/7 [==============================] - 0s 58ms/step - loss: 1.7462 - accuracy: 0.3178 - val_loss: 1.9157 - val_accuracy: 0.2692\n",
      "Epoch 62/100\n",
      "7/7 [==============================] - 0s 43ms/step - loss: 1.7370 - accuracy: 0.3308 - val_loss: 1.9151 - val_accuracy: 0.2692\n",
      "Epoch 63/100\n",
      "7/7 [==============================] - 0s 50ms/step - loss: 1.8355 - accuracy: 0.2540 - val_loss: 1.9151 - val_accuracy: 0.2500\n",
      "Epoch 64/100\n",
      "7/7 [==============================] - 0s 48ms/step - loss: 1.8037 - accuracy: 0.2584 - val_loss: 1.9138 - val_accuracy: 0.2500\n",
      "Epoch 65/100\n",
      "7/7 [==============================] - 0s 46ms/step - loss: 1.8050 - accuracy: 0.2995 - val_loss: 1.9110 - val_accuracy: 0.2500\n",
      "Epoch 66/100\n",
      "7/7 [==============================] - 0s 42ms/step - loss: 1.7419 - accuracy: 0.2830 - val_loss: 1.9084 - val_accuracy: 0.2692\n",
      "Epoch 67/100\n",
      "7/7 [==============================] - 0s 45ms/step - loss: 1.8198 - accuracy: 0.2603 - val_loss: 1.9070 - val_accuracy: 0.2692\n",
      "Epoch 68/100\n",
      "7/7 [==============================] - 0s 45ms/step - loss: 1.8151 - accuracy: 0.2691 - val_loss: 1.9071 - val_accuracy: 0.2692\n",
      "Epoch 69/100\n",
      "7/7 [==============================] - 0s 44ms/step - loss: 1.8318 - accuracy: 0.2837 - val_loss: 1.9075 - val_accuracy: 0.2692\n",
      "Epoch 70/100\n",
      "7/7 [==============================] - 0s 44ms/step - loss: 1.8012 - accuracy: 0.2745 - val_loss: 1.9068 - val_accuracy: 0.2692\n",
      "Epoch 71/100\n",
      "7/7 [==============================] - 0s 48ms/step - loss: 1.8197 - accuracy: 0.2437 - val_loss: 1.9067 - val_accuracy: 0.2692\n",
      "Epoch 72/100\n",
      "7/7 [==============================] - 0s 49ms/step - loss: 1.7812 - accuracy: 0.2702 - val_loss: 1.9052 - val_accuracy: 0.2692\n",
      "Epoch 73/100\n",
      "7/7 [==============================] - 0s 48ms/step - loss: 1.7285 - accuracy: 0.3162 - val_loss: 1.9031 - val_accuracy: 0.2692\n",
      "Epoch 74/100\n",
      "7/7 [==============================] - 0s 45ms/step - loss: 1.8246 - accuracy: 0.3149 - val_loss: 1.9031 - val_accuracy: 0.2692\n",
      "Epoch 75/100\n",
      "7/7 [==============================] - 0s 43ms/step - loss: 1.8305 - accuracy: 0.2724 - val_loss: 1.9030 - val_accuracy: 0.2692\n",
      "Epoch 76/100\n",
      "7/7 [==============================] - 0s 43ms/step - loss: 1.8076 - accuracy: 0.2731 - val_loss: 1.9017 - val_accuracy: 0.2692\n",
      "Epoch 77/100\n",
      "7/7 [==============================] - 0s 39ms/step - loss: 1.8349 - accuracy: 0.2812 - val_loss: 1.9022 - val_accuracy: 0.2692\n",
      "Epoch 78/100\n",
      "7/7 [==============================] - 0s 60ms/step - loss: 1.7403 - accuracy: 0.3802 - val_loss: 1.9028 - val_accuracy: 0.2692\n",
      "Epoch 79/100\n",
      "7/7 [==============================] - 0s 77ms/step - loss: 1.7260 - accuracy: 0.3336 - val_loss: 1.9003 - val_accuracy: 0.2692\n",
      "Epoch 80/100\n",
      "7/7 [==============================] - 0s 39ms/step - loss: 1.8293 - accuracy: 0.2266 - val_loss: 1.8995 - val_accuracy: 0.2692\n",
      "Epoch 81/100\n",
      "7/7 [==============================] - 0s 40ms/step - loss: 1.7815 - accuracy: 0.3154 - val_loss: 1.8986 - val_accuracy: 0.2692\n",
      "Epoch 82/100\n",
      "7/7 [==============================] - 0s 37ms/step - loss: 1.7389 - accuracy: 0.3686 - val_loss: 1.8976 - val_accuracy: 0.2692\n",
      "Epoch 83/100\n",
      "7/7 [==============================] - 0s 41ms/step - loss: 1.7067 - accuracy: 0.3392 - val_loss: 1.8982 - val_accuracy: 0.2692\n",
      "Epoch 84/100\n",
      "7/7 [==============================] - 0s 40ms/step - loss: 1.7820 - accuracy: 0.2585 - val_loss: 1.8976 - val_accuracy: 0.2692\n",
      "Epoch 85/100\n",
      "7/7 [==============================] - 0s 43ms/step - loss: 1.7726 - accuracy: 0.3144 - val_loss: 1.8978 - val_accuracy: 0.2692\n",
      "Epoch 86/100\n",
      "7/7 [==============================] - 0s 44ms/step - loss: 1.7925 - accuracy: 0.2841 - val_loss: 1.8966 - val_accuracy: 0.2692\n",
      "Epoch 87/100\n",
      "7/7 [==============================] - 0s 49ms/step - loss: 1.7324 - accuracy: 0.3230 - val_loss: 1.8954 - val_accuracy: 0.2692\n",
      "Epoch 88/100\n",
      "7/7 [==============================] - 0s 45ms/step - loss: 1.7920 - accuracy: 0.3253 - val_loss: 1.8923 - val_accuracy: 0.2692\n",
      "Epoch 89/100\n",
      "7/7 [==============================] - 0s 48ms/step - loss: 1.8321 - accuracy: 0.2525 - val_loss: 1.8913 - val_accuracy: 0.2692\n",
      "Epoch 90/100\n",
      "7/7 [==============================] - 0s 43ms/step - loss: 1.7515 - accuracy: 0.2973 - val_loss: 1.8898 - val_accuracy: 0.2692\n",
      "Epoch 91/100\n",
      "7/7 [==============================] - 0s 42ms/step - loss: 1.8073 - accuracy: 0.2738 - val_loss: 1.8906 - val_accuracy: 0.2692\n",
      "Epoch 92/100\n",
      "7/7 [==============================] - 0s 42ms/step - loss: 1.8035 - accuracy: 0.2757 - val_loss: 1.8916 - val_accuracy: 0.2692\n",
      "Epoch 93/100\n",
      "7/7 [==============================] - 0s 38ms/step - loss: 1.8220 - accuracy: 0.2707 - val_loss: 1.8910 - val_accuracy: 0.2692\n",
      "Epoch 94/100\n",
      "7/7 [==============================] - 0s 43ms/step - loss: 1.6701 - accuracy: 0.2503 - val_loss: 1.8902 - val_accuracy: 0.2692\n",
      "Epoch 95/100\n",
      "7/7 [==============================] - 0s 45ms/step - loss: 1.8056 - accuracy: 0.3353 - val_loss: 1.8900 - val_accuracy: 0.2692\n",
      "Epoch 96/100\n",
      "7/7 [==============================] - 0s 51ms/step - loss: 1.8036 - accuracy: 0.3389 - val_loss: 1.8905 - val_accuracy: 0.2692\n",
      "Epoch 97/100\n",
      "7/7 [==============================] - 0s 37ms/step - loss: 1.8303 - accuracy: 0.2741 - val_loss: 1.8908 - val_accuracy: 0.2692\n",
      "Epoch 98/100\n",
      "7/7 [==============================] - 0s 35ms/step - loss: 1.7192 - accuracy: 0.2877 - val_loss: 1.8919 - val_accuracy: 0.2692\n",
      "Epoch 99/100\n",
      "7/7 [==============================] - 0s 39ms/step - loss: 1.8276 - accuracy: 0.2707 - val_loss: 1.8930 - val_accuracy: 0.2692\n",
      "Epoch 100/100\n",
      "7/7 [==============================] - 0s 52ms/step - loss: 1.7595 - accuracy: 0.3210 - val_loss: 1.8944 - val_accuracy: 0.2692\n"
     ]
    }
   ],
   "source": [
    "history = model.fit(X_train, y_train, \n",
    "          validation_data=(X_validation, y_validation), \n",
    "          batch_size=32, epochs=100)"
   ]
  },
  {
   "cell_type": "code",
   "execution_count": 54,
   "metadata": {},
   "outputs": [],
   "source": [
    "def plot_history(history):\n",
    "    \"\"\"Plots accuracy/loss for training/validation set as a function of the epochs\n",
    "        :param history: Training history of model\n",
    "        :return:\n",
    "    \"\"\"\n",
    "\n",
    "    fig, axs = plt.subplots(2)\n",
    "\n",
    "    # create accuracy sublpot\n",
    "    axs[0].plot(history.history[\"accuracy\"], label=\"train accuracy\")\n",
    "    axs[0].plot(history.history[\"val_accuracy\"], label=\"test accuracy\")\n",
    "    axs[0].set_ylabel(\"Accuracy\")\n",
    "    axs[0].legend(loc=\"lower right\")\n",
    "    axs[0].set_title(\"Accuracy eval\")\n",
    "\n",
    "    # create error sublpot\n",
    "    axs[1].plot(history.history[\"loss\"], label=\"train error\")\n",
    "    axs[1].plot(history.history[\"val_loss\"], label=\"test error\")\n",
    "    axs[1].set_ylabel(\"Error\")\n",
    "    axs[1].set_xlabel(\"Epoch\")\n",
    "    axs[1].legend(loc=\"upper right\")\n",
    "    axs[1].set_title(\"Error eval\")\n"
   ]
  },
  {
   "cell_type": "code",
   "execution_count": 59,
   "metadata": {},
   "outputs": [
    {
     "data": {
      "image/png": "[encoded data removed]",
      "text/plain": [
       "<Figure size 432x288 with 2 Axes>"
      ]
     },
     "metadata": {
      "needs_background": "light"
     },
     "output_type": "display_data"
    }
   ],
   "source": [
    "plot_history(history)"
   ]
  },
  {
   "cell_type": "code",
   "execution_count": null,
   "metadata": {},
   "outputs": [],
   "source": []
  },
  {
   "cell_type": "code",
   "execution_count": null,
   "metadata": {},
   "outputs": [],
   "source": []
  }
 ],
 "metadata": {
  "kernelspec": {
   "display_name": "Python 3",
   "language": "python",
   "name": "python3"
  },
  "language_info": {
   "codemirror_mode": {
    "name": "ipython",
    "version": 3
   },
   "file_extension": ".py",
   "mimetype": "text/x-python",
   "name": "python",
   "nbconvert_exporter": "python",
   "pygments_lexer": "ipython3",
   "version": "3.7.4"
  }
 },
 "nbformat": 4,
 "nbformat_minor": 2
}
